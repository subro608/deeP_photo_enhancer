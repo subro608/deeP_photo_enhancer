{
  "nbformat": 4,
  "nbformat_minor": 0,
  "metadata": {
    "colab": {
      "name": "photo_enhancer",
      "provenance": [],
      "private_outputs": true
    },
    "kernelspec": {
      "name": "python3",
      "display_name": "Python 3"
    },
    "accelerator": "GPU"
  },
  "cells": [
    {
      "cell_type": "code",
      "metadata": {
        "id": "b7i-KOAGzhes",
        "colab_type": "code",
        "colab": {}
      },
      "source": [
        "pip install tensorview"
      ],
      "execution_count": 0,
      "outputs": []
    },
    {
      "cell_type": "code",
      "metadata": {
        "id": "5FTroRNqAfCO",
        "colab_type": "code",
        "colab": {}
      },
      "source": [
        "import matplotlib\n",
        "matplotlib.use(\"Agg\")\n",
        "import matplotlib.pylab as plt\n",
        "from math import ceil\n",
        "import numpy as np\n",
        "import argparse\n",
        "from functools import partial\n",
        "import os\n",
        "import tensorview as tv\n",
        "import cv2\n",
        "import tensorflow as tf\n",
        "import matplotlib.pyplot as  plt"
      ],
      "execution_count": 0,
      "outputs": []
    },
    {
      "cell_type": "code",
      "metadata": {
        "id": "xoaWQo2JKpJr",
        "colab_type": "code",
        "colab": {}
      },
      "source": [
        "!wget http://data.vision.ee.ethz.ch/cvl/DIV2K/DIV2K_valid_HR.zip"
      ],
      "execution_count": 0,
      "outputs": []
    },
    {
      "cell_type": "code",
      "metadata": {
        "id": "GEiOBcU9hJJY",
        "colab_type": "code",
        "colab": {}
      },
      "source": [
        "!wget http://data.vision.ee.ethz.ch/cvl/DIV2K/DIV2K_valid_LR_bicubic_X2.zip"
      ],
      "execution_count": 0,
      "outputs": []
    },
    {
      "cell_type": "code",
      "metadata": {
        "id": "rS9CLGv0MZpN",
        "colab_type": "code",
        "colab": {}
      },
      "source": [
        "!unzip -q DIV2K_valid_HR.zip -d div2k"
      ],
      "execution_count": 0,
      "outputs": []
    },
    {
      "cell_type": "code",
      "metadata": {
        "id": "QdhQj2dMif2o",
        "colab_type": "code",
        "colab": {}
      },
      "source": [
        "!unzip -q DIV2K_valid_LR_bicubic_X2.zip -d div2k"
      ],
      "execution_count": 0,
      "outputs": []
    },
    {
      "cell_type": "code",
      "metadata": {
        "id": "HUpKbg-qPQdL",
        "colab_type": "code",
        "colab": {}
      },
      "source": [
        "%matplotlib inline"
      ],
      "execution_count": 0,
      "outputs": []
    },
    {
      "cell_type": "code",
      "metadata": {
        "id": "OFql6ImIibZk",
        "colab_type": "code",
        "colab": {}
      },
      "source": [
        "import glob,os\n",
        "img_dir = \"div2k/DIV2K_valid_HR\" \n",
        "data_path = os.path.join(img_dir,'*g')\n",
        "files = glob.glob(data_path)"
      ],
      "execution_count": 0,
      "outputs": []
    },
    {
      "cell_type": "code",
      "metadata": {
        "id": "GSjz9nMzGCLX",
        "colab_type": "code",
        "colab": {}
      },
      "source": [
        "data2 = []"
      ],
      "execution_count": 0,
      "outputs": []
    },
    {
      "cell_type": "code",
      "metadata": {
        "id": "fp3GaymVksPY",
        "colab_type": "code",
        "colab": {}
      },
      "source": [
        "data = []"
      ],
      "execution_count": 0,
      "outputs": []
    },
    {
      "cell_type": "code",
      "metadata": {
        "id": "As94vsPB8UC5",
        "colab_type": "code",
        "colab": {}
      },
      "source": [
        "def visualize(original, augmented):\n",
        "  fig = plt.figure()\n",
        "  plt.subplot(1,2,1)\n",
        "  plt.title('Original image')\n",
        "  plt.imshow(original)\n",
        "  plt.subplot(1,2,2)\n",
        "  plt.title('Augmented image')\n",
        "  plt.imshow(augmented)"
      ],
      "execution_count": 0,
      "outputs": []
    },
    {
      "cell_type": "code",
      "metadata": {
        "id": "AERJhAzc7r32",
        "colab_type": "code",
        "colab": {}
      },
      "source": [
        "\n",
        "for f in files:\n",
        "  img = cv2.imread(f)\n",
        "  h,w,c = img.shape\n",
        "  if h == w:\n",
        "    img_new = cv2.resize(img, (512, 512), cv2.INTER_AREA)\n",
        "  if h > w:\n",
        "    dif = h\n",
        "  else:\n",
        "    dif = w\n",
        "  x_pos = int((dif - w)/2.)\n",
        "  y_pos = int((dif - h)/2.)\n",
        "  mask = np.zeros((dif, dif, c), dtype=img.dtype)\n",
        "  mask[y_pos:y_pos+h, x_pos:x_pos+w, :] = img[:h, :w, :]\n",
        "  img_new = cv2.resize(mask, (512, 512), cv2.INTER_AREA)\n",
        "  saturated = tf.image.adjust_saturation(img_new, 5)\n",
        "  #visualize(img_new, saturated)\n",
        "  saturated = saturated.numpy()\n",
        "  data2.append(saturated)\n",
        "  data.append(img_new)"
      ],
      "execution_count": 0,
      "outputs": []
    },
    {
      "cell_type": "code",
      "metadata": {
        "id": "SBOdqwz1h0T_",
        "colab_type": "code",
        "colab": {}
      },
      "source": [
        "np.asarray(data).shape"
      ],
      "execution_count": 0,
      "outputs": []
    },
    {
      "cell_type": "markdown",
      "metadata": {
        "id": "5A-M78-IGD5u",
        "colab_type": "text"
      },
      "source": [
        "DualGAN\n"
      ]
    },
    {
      "cell_type": "code",
      "metadata": {
        "id": "_H-X_NPUcFtD",
        "colab_type": "code",
        "colab": {}
      },
      "source": [
        "import math\n",
        "def psnr(img1, img2):\n",
        "    mse = np.mean( (img1 - img2) ** 2 )\n",
        "    if mse == 0:\n",
        "      print(\"same image\")\n",
        "      return\n",
        "    PIXEL_MAX = 255.0\n",
        "    return 20 * math.log10(PIXEL_MAX / math.sqrt(mse))"
      ],
      "execution_count": 0,
      "outputs": []
    },
    {
      "cell_type": "code",
      "metadata": {
        "id": "9aQlS7L6d-JC",
        "colab_type": "code",
        "colab": {}
      },
      "source": [
        "def wasserstein_loss(y_true, y_pred):\n",
        "    return tf.keras.backend.mean(y_true * y_pred)"
      ],
      "execution_count": 0,
      "outputs": []
    },
    {
      "cell_type": "code",
      "metadata": {
        "id": "IiJ7cy9pRXR4",
        "colab_type": "code",
        "colab": {}
      },
      "source": [
        "def conv2d_block(input_tensor, n_filters, kernel_size=2, batchnorm=True):\n",
        "    x = tf.keras.layers.Conv2D(filters=n_filters, kernel_size=(kernel_size, kernel_size),strides = 2, kernel_initializer=\"he_normal\",\n",
        "               padding=\"valid\")(input_tensor)\n",
        "    if batchnorm:\n",
        "        x = tf.keras.layers.BatchNormalization()(x)\n",
        "    x = tf.keras.activations.selu(x)\n",
        "    return x"
      ],
      "execution_count": 0,
      "outputs": []
    },
    {
      "cell_type": "code",
      "metadata": {
        "colab_type": "code",
        "id": "Klt9N-QEWG7s",
        "colab": {}
      },
      "source": [
        "def get_unet(input_img,n_filters=16, dropout=0.5, batchnorm=True):\n",
        "    #Contracting path\n",
        "    input_img = tf.keras.layers.Conv2D(filters=n_filters, kernel_size=(1,1),strides = 1,padding=\"valid\")(input_img)\n",
        "    c1 = conv2d_block(input_img, n_filters=n_filters*2, kernel_size=2, batchnorm=batchnorm)\n",
        "    p1 = tf.keras.layers.Dropout(dropout*0.5)(c1)\n",
        "    c2 = conv2d_block(p1, n_filters=n_filters*4, kernel_size=2, batchnorm=batchnorm)\n",
        "    p2 = tf.keras.layers.Dropout(dropout)(c2)\n",
        "    c3 = conv2d_block(p2, n_filters=n_filters*8, kernel_size=2, batchnorm=batchnorm)\n",
        "    p3 = tf.keras.layers.Dropout(dropout)(c3)\n",
        "    c4 = conv2d_block(p3, n_filters=n_filters*8, kernel_size=2, batchnorm=batchnorm)\n",
        "    p4 = tf.keras.layers.Dropout(dropout)(c4)  \n",
        "    c6 = conv2d_block(p4, n_filters=n_filters*8, kernel_size=2, batchnorm=batchnorm)\n",
        "    p6 = tf.keras.layers.Dropout(dropout)(c6)\n",
        "    c7 = conv2d_block(p6, n_filters=n_filters*8, kernel_size=2, batchnorm=batchnorm)\n",
        "    p7 = tf.keras.layers.Dropout(dropout)(c7)\n",
        "    c8 = conv2d_block(p7, n_filters=n_filters*8, kernel_size=8, batchnorm=batchnorm)\n",
        "    p8 = tf.keras.layers.Dropout(dropout)(c8)\n",
        "    new_p8 = tf.keras.backend.repeat_elements(p8,rep = 32,axis = 1)\n",
        "    new_p8 = tf.keras.backend.repeat_elements(new_p8,rep = 32,axis = 2)\n",
        "    out = tf.keras.backend.concatenate((new_p8,p4),axis = -1)\n",
        "    #Expansive path\n",
        "    u6 = tf.keras.layers.Conv2DTranspose(n_filters*4, (2, 2), strides=2, padding='valid') (out)\n",
        "    u6 = tf.keras.backend.concatenate([u6,p3],axis = -1)\n",
        "    u6 = tf.keras.layers.Dropout(dropout)(u6)\n",
        "    if batchnorm:\n",
        "        u6 = tf.keras.layers.BatchNormalization()(u6)\n",
        "    u6 = tf.keras.activations.selu(u6)   \n",
        "    u7 = tf.keras.layers.Conv2DTranspose(n_filters*2, (2, 2), strides=2, padding='valid') (u6)\n",
        "    u7 = tf.keras.backend.concatenate([u7,p2],axis = -1)\n",
        "    u7 = tf.keras.layers.Dropout(dropout)(u7)\n",
        "    if batchnorm:\n",
        "        u7 = tf.keras.layers.BatchNormalization()(u7)\n",
        "    u7 = tf.keras.activations.selu(u7)    \n",
        "    u8 = tf.keras.layers.Conv2DTranspose(n_filters, (2, 2), strides=2, padding='valid') (u7)\n",
        "    u8 = tf.keras.backend.concatenate([u8,p1],axis = -1)\n",
        "    u8 = tf.keras.layers.Dropout(dropout)(u8)\n",
        "    if batchnorm:\n",
        "        u8 = tf.keras.layers.BatchNormalization()(u8)\n",
        "    u8 = tf.keras.activations.selu(u8)    \n",
        "    u9 = tf.keras.layers.Conv2DTranspose(n_filters, (2, 2), strides=2, padding='valid') (u8)\n",
        "    if batchnorm:\n",
        "        u9 = tf.keras.layers.BatchNormalization()(u9)\n",
        "    u9 = tf.keras.activations.selu(u9)    \n",
        "    u10 = tf.keras.layers.Conv2DTranspose(3, (1, 1), strides=1, padding='valid') (u9)\n",
        "    \n",
        "    \n",
        "    return u10"
      ],
      "execution_count": 0,
      "outputs": []
    },
    {
      "cell_type": "code",
      "metadata": {
        "id": "qB4u4XsJWRvj",
        "colab_type": "code",
        "colab": {}
      },
      "source": [
        ""
      ],
      "execution_count": 0,
      "outputs": []
    },
    {
      "cell_type": "code",
      "metadata": {
        "id": "pnMLEkOIbXw2",
        "colab_type": "code",
        "colab": {}
      },
      "source": [
        "def get_disc(input_img,n_filters = 16,dropout = 0.5):\n",
        "\n",
        "  input_img = tf.keras.layers.Conv2D(filters=n_filters, kernel_size=(1,1),strides = 1,padding=\"valid\")(input_img)\n",
        "  c1 = tf.keras.layers.Conv2D(filters=n_filters*2, kernel_size=(2,2),strides = 2,padding=\"valid\")(input_img)\n",
        "  c1 = tf.keras.layers.LeakyReLU()(c1)\n",
        "  c2 = tf.keras.layers.Conv2D(filters=n_filters*4, kernel_size=(2,2),strides = 2,padding=\"valid\")(c1)\n",
        "  c2 = tf.keras.layers.LeakyReLU()(c2)\n",
        "  c3 = tf.keras.layers.Conv2D(filters=n_filters*8, kernel_size=(2,2),strides = 2,padding=\"valid\")(c2)\n",
        "  c3 = tf.keras.layers.LeakyReLU()(c3)\n",
        "  c4 = tf.keras.layers.Conv2D(filters=n_filters*8, kernel_size=(2,2),strides = 2,padding=\"valid\")(c3)\n",
        "  c4 = tf.keras.layers.LeakyReLU()(c4)\n",
        "  c5 = tf.keras.layers.Conv2D(filters=n_filters*8, kernel_size=(2,2),strides = 2,padding=\"valid\")(c4)\n",
        "  c5 = tf.keras.layers.LeakyReLU()(c5)\n",
        "  c6 = tf.keras.layers.Conv2D(filters=n_filters*8, kernel_size=(2,2),strides = 2,padding=\"valid\")(c5)\n",
        "  c6 = tf.keras.layers.LeakyReLU()(c6)\n",
        "  c7 = tf.keras.layers.Flatten()(c6)\n",
        "  c8 = tf.keras.layers.Dense(512,activation='relu')(c7)\n",
        "  u1 = tf.keras.layers.Dense(1,activation='sigmoid')(c8)\n",
        " \n",
        "  return u1\n"
      ],
      "execution_count": 0,
      "outputs": []
    },
    {
      "cell_type": "code",
      "metadata": {
        "id": "PcIo8FIEbXz1",
        "colab_type": "code",
        "colab": {}
      },
      "source": [
        "inp1 = tf.keras.Input(shape = (512,512,3))\n",
        "disc_out_1 = get_disc(inp1)\n",
        "disc_mod_1 = tf.keras.Model(inputs = inp1,outputs = disc_out_1)\n",
        "disc_mod_1.compile(loss = wasserstein_loss,\n",
        "                   optimizer = tf.keras.optimizers.Adam(),\n",
        "                   metrics = ['accuracy'])\n",
        "inp2 = tf.keras.Input(shape = (512,512,3))\n",
        "disc_out_2 = get_disc(inp2)\n",
        "disc_mod_2 = tf.keras.Model(inputs = inp2,outputs = disc_out_2)\n",
        "disc_mod_2.compile(loss = wasserstein_loss,\n",
        "                   optimizer = tf.keras.optimizers.Adam(),\n",
        "                   metrics = ['accuracy'])"
      ],
      "execution_count": 0,
      "outputs": []
    },
    {
      "cell_type": "code",
      "metadata": {
        "id": "plgSMno2beL3",
        "colab_type": "code",
        "colab": {}
      },
      "source": [
        "image1 = tf.keras.Input(shape = (512,512,3))\n",
        "gen_out_1 = get_unet(image1)\n",
        "gen_mod_1 = tf.keras.Model(inputs = image1,outputs = gen_out_1)"
      ],
      "execution_count": 0,
      "outputs": []
    },
    {
      "cell_type": "code",
      "metadata": {
        "id": "tLKuZAPLp6m2",
        "colab_type": "code",
        "colab": {}
      },
      "source": [
        "image2 = tf.keras.Input(shape = (512,512,3))\n",
        "gen_out_2 = get_unet(image2)\n",
        "gen_mod_2 = tf.keras.Model(inputs = image2,outputs = gen_out_2)"
      ],
      "execution_count": 0,
      "outputs": []
    },
    {
      "cell_type": "code",
      "metadata": {
        "id": "CPs8b06fqBpa",
        "colab_type": "code",
        "colab": {}
      },
      "source": [
        "image_real_1 = tf.keras.Input(shape = (512,512,3))\n",
        "image_real_2 = tf.keras.Input(shape = (512,512,3))\n",
        "image_gen_a = gen_mod_1(image_real_1)\n",
        "image_gen_b = gen_mod_2(image_real_2)"
      ],
      "execution_count": 0,
      "outputs": []
    },
    {
      "cell_type": "code",
      "metadata": {
        "id": "dP0NRDYvrLTI",
        "colab_type": "code",
        "colab": {}
      },
      "source": [
        "frozen_a = tf.keras.Model(disc_mod_1.inputs, disc_mod_1.outputs)\n",
        "frozen_a.trainable = False\n",
        "frozen_b = tf.keras.Model(disc_mod_2.inputs, disc_mod_2.outputs)\n",
        "frozen_b.trainable = False"
      ],
      "execution_count": 0,
      "outputs": []
    },
    {
      "cell_type": "code",
      "metadata": {
        "id": "TjwEWiKnuGem",
        "colab_type": "code",
        "colab": {}
      },
      "source": [
        "logit_a = frozen_a(image_gen_b)\n",
        "logit_b = frozen_b(image_gen_a)\n",
        "recov_b = gen_mod_1(image_gen_b)\n",
        "recov_a = gen_mod_2(image_gen_a)"
      ],
      "execution_count": 0,
      "outputs": []
    },
    {
      "cell_type": "code",
      "metadata": {
        "id": "ppzsE-oXy7a_",
        "colab_type": "code",
        "colab": {}
      },
      "source": [
        "two_way_gan = tf.keras.Model([image_real_1,image_real_2],[logit_a,logit_b,recov_a,recov_b])\n"
      ],
      "execution_count": 0,
      "outputs": []
    },
    {
      "cell_type": "code",
      "metadata": {
        "id": "Nf1KSNvVwwhM",
        "colab_type": "code",
        "colab": {}
      },
      "source": [
        "\n",
        "two_way_gan.compile(loss=[wasserstein_loss, wasserstein_loss, 'mae', 'mae'],\n",
        "                    optimizer=tf.keras.optimizers.Adam(0.0002, 0.5),\n",
        "                    loss_weights=[1, 1, 100, 100])\n"
      ],
      "execution_count": 0,
      "outputs": []
    },
    {
      "cell_type": "code",
      "metadata": {
        "id": "EWt3k5vd1sBy",
        "colab_type": "code",
        "colab": {}
      },
      "source": [
        "tv_plot = tv.train.PlotMetrics(columns=2, wait_num=5)"
      ],
      "execution_count": 0,
      "outputs": []
    },
    {
      "cell_type": "code",
      "metadata": {
        "id": "m7dNtf9ZjvFJ",
        "colab_type": "code",
        "colab": {}
      },
      "source": [
        "train_real = np.asarray(data)\n",
        "train_sat = np.asarray(data2)"
      ],
      "execution_count": 0,
      "outputs": []
    },
    {
      "cell_type": "code",
      "metadata": {
        "id": "T_irf2yDqWA0",
        "colab_type": "code",
        "colab": {}
      },
      "source": [
        "batch_size = 2\n",
        "epochs = 10\n",
        "n_critic = 4"
      ],
      "execution_count": 0,
      "outputs": []
    },
    {
      "cell_type": "code",
      "metadata": {
        "id": "LNcdQx4CkN23",
        "colab_type": "code",
        "colab": {}
      },
      "source": [
        "valid = -np.ones((batch_size, 1))\n",
        "fake = np.ones((batch_size, 1))"
      ],
      "execution_count": 0,
      "outputs": []
    },
    {
      "cell_type": "markdown",
      "metadata": {
        "id": "qiIacyByo7UK",
        "colab_type": "text"
      },
      "source": [
        "TRAINING"
      ]
    },
    {
      "cell_type": "code",
      "metadata": {
        "id": "Uha8xS6KqZbN",
        "colab_type": "code",
        "colab": {}
      },
      "source": [
        "clip_value = 0.01\n",
        "for epoch in range(epochs):\n",
        "  for _ in range(n_critic):\n",
        "    batch_image_a = train_sat[np.random.choice(range(train_sat.shape[0]), batch_size, False)]\n",
        "    batch_image_b = train_real[np.random.choice(range(train_real.shape[0]), batch_size, False)]\n",
        "    batch_image_gen_a = gen_mod_2(batch_image_b)\n",
        "    batch_image_gen_b = gen_mod_1(batch_image_a)\n",
        "    d_a_loss_real = disc_mod_1.train_on_batch(batch_image_a,valid)\n",
        "    d_a_loss_fake = disc_mod_1.train_on_batch(batch_image_gen_a,fake)\n",
        "    d_b_loss_real = disc_mod_2.train_on_batch(batch_image_b,valid)\n",
        "    d_b_loss_fake = disc_mod_2.train_on_batch(batch_image_gen_b,fake) \n",
        "    d_a_loss = 0.5 * np.add(d_a_loss_real,d_a_loss_fake)\n",
        "    d_b_loss = 0.5 * np.add(d_b_loss_real,d_b_loss_fake)\n",
        "    for d in [disc_mod_1, disc_mod_2]:\n",
        "      for l in d.layers:\n",
        "        weights = l.get_weights()\n",
        "        weights = [np.clip(w, -clip_value, clip_value) for w in weights]\n",
        "        l.set_weights(weights)\n",
        "  g_loss = two_way_gan.train_on_batch([batch_image_a, batch_image_b], [valid, valid, batch_image_a, batch_image_b])\n",
        "  tv_plot.update({'D_a_loss': d_a_loss[0], 'D_a_binary_acc': d_a_loss[1],\n",
        "                    'D_b_loss': d_b_loss[0], 'D_b_binary_acc': d_b_loss[1],\n",
        "                    'G_a_loss': g_loss[1],  'G_b_loss': g_loss[2]})\n",
        "  print(g_loss)\n",
        "  tv_plot.draw()\n",
        "tv_plot.visual()\n",
        "tv_plot.visual(name='model_visual_gif', gif=True)    \n"
      ],
      "execution_count": 0,
      "outputs": []
    },
    {
      "cell_type": "markdown",
      "metadata": {
        "id": "UXbETZKxo9ql",
        "colab_type": "text"
      },
      "source": [
        "TESTING"
      ]
    },
    {
      "cell_type": "code",
      "metadata": {
        "id": "R-UzHb1du9f-",
        "colab_type": "code",
        "colab": {}
      },
      "source": [
        "def psnr_test(test_LR,test_HR):#didn't use a testing dataset\n",
        "  image_b = test_LR\n",
        "  image_gen_a = gen_mod_2(image_b)\n",
        "  psnr_result = psnr(np.asarray(image_gen_a),test_HR)\n",
        "  return psnr_result\n"
      ],
      "execution_count": 0,
      "outputs": []
    },
    {
      "cell_type": "code",
      "metadata": {
        "id": "GAQflaIz2wSD",
        "colab_type": "code",
        "colab": {}
      },
      "source": [
        "psnr_test(train_real,train_sat)"
      ],
      "execution_count": 0,
      "outputs": []
    },
    {
      "cell_type": "code",
      "metadata": {
        "id": "zgBPRvY621d5",
        "colab_type": "code",
        "colab": {}
      },
      "source": [
        ""
      ],
      "execution_count": 0,
      "outputs": []
    }
  ]
}